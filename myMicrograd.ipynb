{
  "nbformat": 4,
  "nbformat_minor": 0,
  "metadata": {
    "colab": {
      "provenance": []
    },
    "kernelspec": {
      "name": "python3",
      "display_name": "Python 3"
    },
    "language_info": {
      "name": "python"
    }
  },
  "cells": [
    {
      "cell_type": "code",
      "metadata": {
        "colab": {
          "base_uri": "https://localhost:8080/"
        },
        "id": "9c40c17a",
        "outputId": "c4d53e21-d601-4b2b-f654-fac019c803b6"
      },
      "source": [
        "!pip install graphviz"
      ],
      "execution_count": null,
      "outputs": [
        {
          "output_type": "stream",
          "name": "stdout",
          "text": [
            "Requirement already satisfied: graphviz in /usr/local/lib/python3.11/dist-packages (0.21)\n"
          ]
        }
      ]
    },
    {
      "cell_type": "code",
      "metadata": {
        "id": "e283ee1e"
      },
      "source": [
        "from graphviz import Digraph\n",
        "def trace(root):\n",
        "    nodes, edges = set(), set()\n",
        "    def build(v):\n",
        "        if v not in nodes:\n",
        "            nodes.add(v)\n",
        "            for child in v._prev:\n",
        "                edges.add((child, v))\n",
        "                build(child)\n",
        "    build(root)\n",
        "    return nodes, edges\n",
        "\n",
        "def draw_dot(root, format='svg', rankdir='LR'):\n",
        "    \"\"\"\n",
        "    format: png | svg | ...\n",
        "    rankdir: TB (top to bottom graph) | LR (left to right)\n",
        "    \"\"\"\n",
        "    assert rankdir in ['LR', 'TB']\n",
        "    nodes, edges = trace(root)\n",
        "    dot = Digraph(format=format, graph_attr={'rankdir': rankdir}) #, node_attr={'rankdir': 'TB'})\n",
        "\n",
        "    for n in nodes:\n",
        "        dot.node(name=str(id(n)), label = \"{ %s | data %.4f | grad %.4f }\" % (n.label, n.data, n.grad), shape='record')\n",
        "        if n._op:\n",
        "            dot.node(name=str(id(n)) + n._op, label=n._op)\n",
        "            dot.edge(str(id(n)) + n._op, str(id(n)))\n",
        "\n",
        "    for n1, n2 in edges:\n",
        "        dot.edge(str(id(n1)), str(id(n2)) + n2._op)\n",
        "\n",
        "    return dot"
      ],
      "execution_count": null,
      "outputs": []
    },
    {
      "cell_type": "code",
      "metadata": {
        "id": "9a7d9b31"
      },
      "source": [
        "import math\n",
        "import numpy as np\n",
        "import matplotlib.pyplot as plt\n",
        "%matplotlib inline\n",
        "\n",
        "class Value:\n",
        "  def __init__(self, data, _children=(), _op='', label=''):\n",
        "    self.data = data\n",
        "    self._prev = set(_children)\n",
        "    self._op = _op\n",
        "    self.label = label\n",
        "    self.grad = 0.0\n",
        "    self._backward = lambda: None\n",
        "\n",
        "\n",
        "  def __repr__(self):\n",
        "    return f\"Value(data={self.data})\"\n",
        "  def __add__(self, other):\n",
        "    other = other if isinstance(other, Value) else Value(other)\n",
        "    out = Value(self.data + other.data, (self, other), '+')\n",
        "    def _backward():\n",
        "      self.grad += out.grad\n",
        "      other.grad += out.grad\n",
        "    out._backward = _backward\n",
        "    return out\n",
        "  def __mul__(self, other):\n",
        "    other = other if isinstance(other, Value) else Value(other)\n",
        "    out = Value(self.data * other.data, (self, other), '*')\n",
        "    def _backward():\n",
        "      self.grad += out.grad * other.data\n",
        "      other.grad += out.grad * self.data\n",
        "    out._backward = _backward\n",
        "    return out\n",
        "  def __pow__(self, other):\n",
        "    assert isinstance(other, (int, float)), \"only supporting int/float powers for now\"\n",
        "    out = Value(self.data**other, (self,), f'**{other}')\n",
        "    def _backward():\n",
        "      self.grad += (other * self.data**(other-1)) * out.grad\n",
        "    out._backward = _backward\n",
        "    return out\n",
        "  def __rmul__(self,other):\n",
        "    return self * other\n",
        "  def __truediv__(self, other):\n",
        "    return self * other**-1\n",
        "  def __sub__(self, other):\n",
        "    \"\"\"Implements a subtraction operation.\"\"\"\n",
        "\n",
        "    return self + (-other)\n",
        "  def __rsub__(self, other):\n",
        "   \"\"\"Implements a reversal subtraction operation\"\"\"\n",
        "\n",
        "   return self + (-other)\n",
        "  def __neg__(self):\n",
        "   return self * -1\n",
        "  def __sub__(self, other):\n",
        "    return self + (-other)\n",
        "  def tanh(self):\n",
        "    x = self.data\n",
        "    t = (math.exp(2*x) - 1)/ (math.exp(2*x) + 1)\n",
        "    out = Value(t, (self, ), 'tanh')\n",
        "    def _backward():\n",
        "      self.grad += (1 - t**2) * out.grad\n",
        "    out._backward = _backward\n",
        "\n",
        "    return out\n",
        "  def exp(self):\n",
        "    x = self.data\n",
        "    out = Value(math.exp(x), (self, ), 'exp')\n",
        "    def _backward():\n",
        "      self.grad += out.data * out.grad\n",
        "    out._backward = _backward\n",
        "    return out\n",
        "  def backward(self):\n",
        "    topo = []\n",
        "    visited = set()\n",
        "    def build_topo(v):\n",
        "        if v not in visited:\n",
        "            visited.add(v)\n",
        "            for child in v._prev:\n",
        "                build_topo(child)\n",
        "            topo.append(v)\n",
        "    build_topo(self)\n",
        "\n",
        "    self.grad = 1.0\n",
        "    for node in reversed(topo):\n",
        "        node._backward()"
      ],
      "execution_count": null,
      "outputs": []
    },
    {
      "cell_type": "code",
      "metadata": {
        "colab": {
          "base_uri": "https://localhost:8080/"
        },
        "id": "ed1dc659",
        "outputId": "b8361764-ed26-4b0c-bc77-41e8b83873ad"
      },
      "source": [
        "a = Value(3.0, label='a')\n",
        "b = Value(2.0, label='b')\n",
        "c = Value(5.0, label='c')\n",
        "f = a + b\n",
        "f.label = 'f'\n",
        "e = f * c\n",
        "e.label = 'e'\n",
        "e"
      ],
      "execution_count": null,
      "outputs": [
        {
          "output_type": "execute_result",
          "data": {
            "text/plain": [
              "Value(data=25.0)"
            ]
          },
          "metadata": {},
          "execution_count": 19
        }
      ]
    },
    {
      "cell_type": "code",
      "metadata": {
        "colab": {
          "base_uri": "https://localhost:8080/",
          "height": 192
        },
        "id": "9f3271f1",
        "outputId": "d68955e7-17bf-462f-bf57-abda6e5433db"
      },
      "source": [
        "draw_dot(e)"
      ],
      "execution_count": null,
      "outputs": [
        {
          "output_type": "execute_result",
          "data": {
            "image/svg+xml": "<?xml version=\"1.0\" encoding=\"UTF-8\" standalone=\"no\"?>\n<!DOCTYPE svg PUBLIC \"-//W3C//DTD SVG 1.1//EN\"\n \"http://www.w3.org/Graphics/SVG/1.1/DTD/svg11.dtd\">\n<!-- Generated by graphviz version 2.43.0 (0)\n -->\n<!-- Title: %3 Pages: 1 -->\n<svg width=\"822pt\" height=\"128pt\"\n viewBox=\"0.00 0.00 822.00 128.00\" xmlns=\"http://www.w3.org/2000/svg\" xmlns:xlink=\"http://www.w3.org/1999/xlink\">\n<g id=\"graph0\" class=\"graph\" transform=\"scale(1 1) rotate(0) translate(4 124)\">\n<title>%3</title>\n<polygon fill=\"white\" stroke=\"transparent\" points=\"-4,4 -4,-124 818,-124 818,4 -4,4\"/>\n<!-- 135755443662544 -->\n<g id=\"node1\" class=\"node\">\n<title>135755443662544</title>\n<polygon fill=\"none\" stroke=\"black\" points=\"0,-83.5 0,-119.5 185,-119.5 185,-83.5 0,-83.5\"/>\n<text text-anchor=\"middle\" x=\"11.5\" y=\"-97.8\" font-family=\"Times,serif\" font-size=\"14.00\">a</text>\n<polyline fill=\"none\" stroke=\"black\" points=\"23,-83.5 23,-119.5 \"/>\n<text text-anchor=\"middle\" x=\"63\" y=\"-97.8\" font-family=\"Times,serif\" font-size=\"14.00\">data 3.0000</text>\n<polyline fill=\"none\" stroke=\"black\" points=\"103,-83.5 103,-119.5 \"/>\n<text text-anchor=\"middle\" x=\"144\" y=\"-97.8\" font-family=\"Times,serif\" font-size=\"14.00\">grad 0.0000</text>\n</g>\n<!-- 135755443661648+ -->\n<g id=\"node6\" class=\"node\">\n<title>135755443661648+</title>\n<ellipse fill=\"none\" stroke=\"black\" cx=\"248\" cy=\"-73.5\" rx=\"27\" ry=\"18\"/>\n<text text-anchor=\"middle\" x=\"248\" y=\"-69.8\" font-family=\"Times,serif\" font-size=\"14.00\">+</text>\n</g>\n<!-- 135755443662544&#45;&gt;135755443661648+ -->\n<g id=\"edge4\" class=\"edge\">\n<title>135755443662544&#45;&gt;135755443661648+</title>\n<path fill=\"none\" stroke=\"black\" d=\"M185.01,-84.81C194.49,-83.08 203.66,-81.41 211.9,-79.9\"/>\n<polygon fill=\"black\" stroke=\"black\" points=\"212.6,-83.33 221.81,-78.09 211.35,-76.45 212.6,-83.33\"/>\n</g>\n<!-- 135755443661072 -->\n<g id=\"node2\" class=\"node\">\n<title>135755443661072</title>\n<polygon fill=\"none\" stroke=\"black\" points=\"622,-27.5 622,-63.5 814,-63.5 814,-27.5 622,-27.5\"/>\n<text text-anchor=\"middle\" x=\"633.5\" y=\"-41.8\" font-family=\"Times,serif\" font-size=\"14.00\">e</text>\n<polyline fill=\"none\" stroke=\"black\" points=\"645,-27.5 645,-63.5 \"/>\n<text text-anchor=\"middle\" x=\"688.5\" y=\"-41.8\" font-family=\"Times,serif\" font-size=\"14.00\">data 25.0000</text>\n<polyline fill=\"none\" stroke=\"black\" points=\"732,-27.5 732,-63.5 \"/>\n<text text-anchor=\"middle\" x=\"773\" y=\"-41.8\" font-family=\"Times,serif\" font-size=\"14.00\">grad 0.0000</text>\n</g>\n<!-- 135755443661072* -->\n<g id=\"node3\" class=\"node\">\n<title>135755443661072*</title>\n<ellipse fill=\"none\" stroke=\"black\" cx=\"559\" cy=\"-45.5\" rx=\"27\" ry=\"18\"/>\n<text text-anchor=\"middle\" x=\"559\" y=\"-41.8\" font-family=\"Times,serif\" font-size=\"14.00\">*</text>\n</g>\n<!-- 135755443661072*&#45;&gt;135755443661072 -->\n<g id=\"edge1\" class=\"edge\">\n<title>135755443661072*&#45;&gt;135755443661072</title>\n<path fill=\"none\" stroke=\"black\" d=\"M586.28,-45.5C593.78,-45.5 602.44,-45.5 611.67,-45.5\"/>\n<polygon fill=\"black\" stroke=\"black\" points=\"611.87,-49 621.87,-45.5 611.87,-42 611.87,-49\"/>\n</g>\n<!-- 135755850558736 -->\n<g id=\"node4\" class=\"node\">\n<title>135755850558736</title>\n<polygon fill=\"none\" stroke=\"black\" points=\"0,-28.5 0,-64.5 185,-64.5 185,-28.5 0,-28.5\"/>\n<text text-anchor=\"middle\" x=\"11.5\" y=\"-42.8\" font-family=\"Times,serif\" font-size=\"14.00\">b</text>\n<polyline fill=\"none\" stroke=\"black\" points=\"23,-28.5 23,-64.5 \"/>\n<text text-anchor=\"middle\" x=\"63\" y=\"-42.8\" font-family=\"Times,serif\" font-size=\"14.00\">data 2.0000</text>\n<polyline fill=\"none\" stroke=\"black\" points=\"103,-28.5 103,-64.5 \"/>\n<text text-anchor=\"middle\" x=\"144\" y=\"-42.8\" font-family=\"Times,serif\" font-size=\"14.00\">grad 0.0000</text>\n</g>\n<!-- 135755850558736&#45;&gt;135755443661648+ -->\n<g id=\"edge6\" class=\"edge\">\n<title>135755850558736&#45;&gt;135755443661648+</title>\n<path fill=\"none\" stroke=\"black\" d=\"M185.01,-62.6C194.49,-64.26 203.66,-65.88 211.9,-67.33\"/>\n<polygon fill=\"black\" stroke=\"black\" points=\"211.36,-70.78 221.81,-69.07 212.57,-63.89 211.36,-70.78\"/>\n</g>\n<!-- 135755443661648 -->\n<g id=\"node5\" class=\"node\">\n<title>135755443661648</title>\n<polygon fill=\"none\" stroke=\"black\" points=\"312,-55.5 312,-91.5 495,-91.5 495,-55.5 312,-55.5\"/>\n<text text-anchor=\"middle\" x=\"322.5\" y=\"-69.8\" font-family=\"Times,serif\" font-size=\"14.00\">f</text>\n<polyline fill=\"none\" stroke=\"black\" points=\"333,-55.5 333,-91.5 \"/>\n<text text-anchor=\"middle\" x=\"373\" y=\"-69.8\" font-family=\"Times,serif\" font-size=\"14.00\">data 5.0000</text>\n<polyline fill=\"none\" stroke=\"black\" points=\"413,-55.5 413,-91.5 \"/>\n<text text-anchor=\"middle\" x=\"454\" y=\"-69.8\" font-family=\"Times,serif\" font-size=\"14.00\">grad 0.0000</text>\n</g>\n<!-- 135755443661648&#45;&gt;135755443661072* -->\n<g id=\"edge3\" class=\"edge\">\n<title>135755443661648&#45;&gt;135755443661072*</title>\n<path fill=\"none\" stroke=\"black\" d=\"M495.12,-56.97C504.8,-55.2 514.17,-53.5 522.59,-51.96\"/>\n<polygon fill=\"black\" stroke=\"black\" points=\"523.5,-55.35 532.71,-50.11 522.24,-48.46 523.5,-55.35\"/>\n</g>\n<!-- 135755443661648+&#45;&gt;135755443661648 -->\n<g id=\"edge2\" class=\"edge\">\n<title>135755443661648+&#45;&gt;135755443661648</title>\n<path fill=\"none\" stroke=\"black\" d=\"M275.04,-73.5C282.85,-73.5 291.92,-73.5 301.57,-73.5\"/>\n<polygon fill=\"black\" stroke=\"black\" points=\"301.79,-77 311.79,-73.5 301.79,-70 301.79,-77\"/>\n</g>\n<!-- 135755443651984 -->\n<g id=\"node7\" class=\"node\">\n<title>135755443651984</title>\n<polygon fill=\"none\" stroke=\"black\" points=\"311,-0.5 311,-36.5 496,-36.5 496,-0.5 311,-0.5\"/>\n<text text-anchor=\"middle\" x=\"322.5\" y=\"-14.8\" font-family=\"Times,serif\" font-size=\"14.00\">c</text>\n<polyline fill=\"none\" stroke=\"black\" points=\"334,-0.5 334,-36.5 \"/>\n<text text-anchor=\"middle\" x=\"374\" y=\"-14.8\" font-family=\"Times,serif\" font-size=\"14.00\">data 5.0000</text>\n<polyline fill=\"none\" stroke=\"black\" points=\"414,-0.5 414,-36.5 \"/>\n<text text-anchor=\"middle\" x=\"455\" y=\"-14.8\" font-family=\"Times,serif\" font-size=\"14.00\">grad 0.0000</text>\n</g>\n<!-- 135755443651984&#45;&gt;135755443661072* -->\n<g id=\"edge5\" class=\"edge\">\n<title>135755443651984&#45;&gt;135755443661072*</title>\n<path fill=\"none\" stroke=\"black\" d=\"M496.01,-34.6C505.49,-36.26 514.66,-37.88 522.9,-39.33\"/>\n<polygon fill=\"black\" stroke=\"black\" points=\"522.36,-42.78 532.81,-41.07 523.57,-35.89 522.36,-42.78\"/>\n</g>\n</g>\n</svg>\n",
            "text/plain": [
              "<graphviz.graphs.Digraph at 0x7b781e903490>"
            ]
          },
          "metadata": {},
          "execution_count": 20
        }
      ]
    },
    {
      "cell_type": "code",
      "metadata": {
        "id": "e944235a"
      },
      "source": [
        "e.backward()"
      ],
      "execution_count": null,
      "outputs": []
    },
    {
      "cell_type": "code",
      "metadata": {
        "colab": {
          "base_uri": "https://localhost:8080/",
          "height": 192
        },
        "id": "ee1fe9dd",
        "outputId": "958315d0-999e-4067-c3eb-36153fce6e7c"
      },
      "source": [
        "draw_dot(e)"
      ],
      "execution_count": null,
      "outputs": [
        {
          "output_type": "execute_result",
          "data": {
            "image/svg+xml": "<?xml version=\"1.0\" encoding=\"UTF-8\" standalone=\"no\"?>\n<!DOCTYPE svg PUBLIC \"-//W3C//DTD SVG 1.1//EN\"\n \"http://www.w3.org/Graphics/SVG/1.1/DTD/svg11.dtd\">\n<!-- Generated by graphviz version 2.43.0 (0)\n -->\n<!-- Title: %3 Pages: 1 -->\n<svg width=\"822pt\" height=\"128pt\"\n viewBox=\"0.00 0.00 822.00 128.00\" xmlns=\"http://www.w3.org/2000/svg\" xmlns:xlink=\"http://www.w3.org/1999/xlink\">\n<g id=\"graph0\" class=\"graph\" transform=\"scale(1 1) rotate(0) translate(4 124)\">\n<title>%3</title>\n<polygon fill=\"white\" stroke=\"transparent\" points=\"-4,4 -4,-124 818,-124 818,4 -4,4\"/>\n<!-- 135755443662544 -->\n<g id=\"node1\" class=\"node\">\n<title>135755443662544</title>\n<polygon fill=\"none\" stroke=\"black\" points=\"0,-83.5 0,-119.5 185,-119.5 185,-83.5 0,-83.5\"/>\n<text text-anchor=\"middle\" x=\"11.5\" y=\"-97.8\" font-family=\"Times,serif\" font-size=\"14.00\">a</text>\n<polyline fill=\"none\" stroke=\"black\" points=\"23,-83.5 23,-119.5 \"/>\n<text text-anchor=\"middle\" x=\"63\" y=\"-97.8\" font-family=\"Times,serif\" font-size=\"14.00\">data 3.0000</text>\n<polyline fill=\"none\" stroke=\"black\" points=\"103,-83.5 103,-119.5 \"/>\n<text text-anchor=\"middle\" x=\"144\" y=\"-97.8\" font-family=\"Times,serif\" font-size=\"14.00\">grad 5.0000</text>\n</g>\n<!-- 135755443661648+ -->\n<g id=\"node6\" class=\"node\">\n<title>135755443661648+</title>\n<ellipse fill=\"none\" stroke=\"black\" cx=\"248\" cy=\"-73.5\" rx=\"27\" ry=\"18\"/>\n<text text-anchor=\"middle\" x=\"248\" y=\"-69.8\" font-family=\"Times,serif\" font-size=\"14.00\">+</text>\n</g>\n<!-- 135755443662544&#45;&gt;135755443661648+ -->\n<g id=\"edge4\" class=\"edge\">\n<title>135755443662544&#45;&gt;135755443661648+</title>\n<path fill=\"none\" stroke=\"black\" d=\"M185.01,-84.81C194.49,-83.08 203.66,-81.41 211.9,-79.9\"/>\n<polygon fill=\"black\" stroke=\"black\" points=\"212.6,-83.33 221.81,-78.09 211.35,-76.45 212.6,-83.33\"/>\n</g>\n<!-- 135755443661072 -->\n<g id=\"node2\" class=\"node\">\n<title>135755443661072</title>\n<polygon fill=\"none\" stroke=\"black\" points=\"622,-27.5 622,-63.5 814,-63.5 814,-27.5 622,-27.5\"/>\n<text text-anchor=\"middle\" x=\"633.5\" y=\"-41.8\" font-family=\"Times,serif\" font-size=\"14.00\">e</text>\n<polyline fill=\"none\" stroke=\"black\" points=\"645,-27.5 645,-63.5 \"/>\n<text text-anchor=\"middle\" x=\"688.5\" y=\"-41.8\" font-family=\"Times,serif\" font-size=\"14.00\">data 25.0000</text>\n<polyline fill=\"none\" stroke=\"black\" points=\"732,-27.5 732,-63.5 \"/>\n<text text-anchor=\"middle\" x=\"773\" y=\"-41.8\" font-family=\"Times,serif\" font-size=\"14.00\">grad 1.0000</text>\n</g>\n<!-- 135755443661072* -->\n<g id=\"node3\" class=\"node\">\n<title>135755443661072*</title>\n<ellipse fill=\"none\" stroke=\"black\" cx=\"559\" cy=\"-45.5\" rx=\"27\" ry=\"18\"/>\n<text text-anchor=\"middle\" x=\"559\" y=\"-41.8\" font-family=\"Times,serif\" font-size=\"14.00\">*</text>\n</g>\n<!-- 135755443661072*&#45;&gt;135755443661072 -->\n<g id=\"edge1\" class=\"edge\">\n<title>135755443661072*&#45;&gt;135755443661072</title>\n<path fill=\"none\" stroke=\"black\" d=\"M586.28,-45.5C593.78,-45.5 602.44,-45.5 611.67,-45.5\"/>\n<polygon fill=\"black\" stroke=\"black\" points=\"611.87,-49 621.87,-45.5 611.87,-42 611.87,-49\"/>\n</g>\n<!-- 135755850558736 -->\n<g id=\"node4\" class=\"node\">\n<title>135755850558736</title>\n<polygon fill=\"none\" stroke=\"black\" points=\"0,-28.5 0,-64.5 185,-64.5 185,-28.5 0,-28.5\"/>\n<text text-anchor=\"middle\" x=\"11.5\" y=\"-42.8\" font-family=\"Times,serif\" font-size=\"14.00\">b</text>\n<polyline fill=\"none\" stroke=\"black\" points=\"23,-28.5 23,-64.5 \"/>\n<text text-anchor=\"middle\" x=\"63\" y=\"-42.8\" font-family=\"Times,serif\" font-size=\"14.00\">data 2.0000</text>\n<polyline fill=\"none\" stroke=\"black\" points=\"103,-28.5 103,-64.5 \"/>\n<text text-anchor=\"middle\" x=\"144\" y=\"-42.8\" font-family=\"Times,serif\" font-size=\"14.00\">grad 5.0000</text>\n</g>\n<!-- 135755850558736&#45;&gt;135755443661648+ -->\n<g id=\"edge6\" class=\"edge\">\n<title>135755850558736&#45;&gt;135755443661648+</title>\n<path fill=\"none\" stroke=\"black\" d=\"M185.01,-62.6C194.49,-64.26 203.66,-65.88 211.9,-67.33\"/>\n<polygon fill=\"black\" stroke=\"black\" points=\"211.36,-70.78 221.81,-69.07 212.57,-63.89 211.36,-70.78\"/>\n</g>\n<!-- 135755443661648 -->\n<g id=\"node5\" class=\"node\">\n<title>135755443661648</title>\n<polygon fill=\"none\" stroke=\"black\" points=\"312,-55.5 312,-91.5 495,-91.5 495,-55.5 312,-55.5\"/>\n<text text-anchor=\"middle\" x=\"322.5\" y=\"-69.8\" font-family=\"Times,serif\" font-size=\"14.00\">f</text>\n<polyline fill=\"none\" stroke=\"black\" points=\"333,-55.5 333,-91.5 \"/>\n<text text-anchor=\"middle\" x=\"373\" y=\"-69.8\" font-family=\"Times,serif\" font-size=\"14.00\">data 5.0000</text>\n<polyline fill=\"none\" stroke=\"black\" points=\"413,-55.5 413,-91.5 \"/>\n<text text-anchor=\"middle\" x=\"454\" y=\"-69.8\" font-family=\"Times,serif\" font-size=\"14.00\">grad 5.0000</text>\n</g>\n<!-- 135755443661648&#45;&gt;135755443661072* -->\n<g id=\"edge3\" class=\"edge\">\n<title>135755443661648&#45;&gt;135755443661072*</title>\n<path fill=\"none\" stroke=\"black\" d=\"M495.12,-56.97C504.8,-55.2 514.17,-53.5 522.59,-51.96\"/>\n<polygon fill=\"black\" stroke=\"black\" points=\"523.5,-55.35 532.71,-50.11 522.24,-48.46 523.5,-55.35\"/>\n</g>\n<!-- 135755443661648+&#45;&gt;135755443661648 -->\n<g id=\"edge2\" class=\"edge\">\n<title>135755443661648+&#45;&gt;135755443661648</title>\n<path fill=\"none\" stroke=\"black\" d=\"M275.04,-73.5C282.85,-73.5 291.92,-73.5 301.57,-73.5\"/>\n<polygon fill=\"black\" stroke=\"black\" points=\"301.79,-77 311.79,-73.5 301.79,-70 301.79,-77\"/>\n</g>\n<!-- 135755443651984 -->\n<g id=\"node7\" class=\"node\">\n<title>135755443651984</title>\n<polygon fill=\"none\" stroke=\"black\" points=\"311,-0.5 311,-36.5 496,-36.5 496,-0.5 311,-0.5\"/>\n<text text-anchor=\"middle\" x=\"322.5\" y=\"-14.8\" font-family=\"Times,serif\" font-size=\"14.00\">c</text>\n<polyline fill=\"none\" stroke=\"black\" points=\"334,-0.5 334,-36.5 \"/>\n<text text-anchor=\"middle\" x=\"374\" y=\"-14.8\" font-family=\"Times,serif\" font-size=\"14.00\">data 5.0000</text>\n<polyline fill=\"none\" stroke=\"black\" points=\"414,-0.5 414,-36.5 \"/>\n<text text-anchor=\"middle\" x=\"455\" y=\"-14.8\" font-family=\"Times,serif\" font-size=\"14.00\">grad 5.0000</text>\n</g>\n<!-- 135755443651984&#45;&gt;135755443661072* -->\n<g id=\"edge5\" class=\"edge\">\n<title>135755443651984&#45;&gt;135755443661072*</title>\n<path fill=\"none\" stroke=\"black\" d=\"M496.01,-34.6C505.49,-36.26 514.66,-37.88 522.9,-39.33\"/>\n<polygon fill=\"black\" stroke=\"black\" points=\"522.36,-42.78 532.81,-41.07 523.57,-35.89 522.36,-42.78\"/>\n</g>\n</g>\n</svg>\n",
            "text/plain": [
              "<graphviz.graphs.Digraph at 0x7b781f20d010>"
            ]
          },
          "metadata": {},
          "execution_count": 22
        }
      ]
    },
    {
      "cell_type": "code",
      "source": [
        "# Building a Neuron\n",
        "import random\n",
        "class Neuron:\n",
        "  def __init__(self, nin):\n",
        "    self.w = [Value(random.uniform(-1,1)) for _ in range(nin)]\n",
        "    self.b = Value(random.uniform(-1,1))\n",
        "  def __call__(self, x):\n",
        "    # w * x + b\n",
        "    act = sum((wi*xi for wi,xi in zip(self.w, x)), self.b)\n",
        "    out = act.tanh()\n",
        "    return out\n",
        "  def parameters(self):\n",
        "    return self.w + [self.b]"
      ],
      "metadata": {
        "id": "mO9SsXKGc-1f"
      },
      "execution_count": null,
      "outputs": []
    },
    {
      "cell_type": "code",
      "source": [
        "# Building a Layer\n",
        "class Layer:\n",
        "  def __init__(self, nin, nout):\n",
        "    self.neurons = [Neuron(nin) for _ in range(nout)]\n",
        "  def __call__(self, x):\n",
        "    outs = [n(x) for n in self.neurons]\n",
        "    return outs[0] if len(outs) == 1 else outs\n",
        "  def parameters(self):\n",
        "    return [p for neuron in self.neurons for p in neuron.parameters()]"
      ],
      "metadata": {
        "id": "6rx0y06U0PKw"
      },
      "execution_count": null,
      "outputs": []
    },
    {
      "cell_type": "code",
      "source": [
        "# Building a network out of Layers (Multi Layered Perceptron)\n",
        "class MLP:\n",
        "  def __init__(self, nin, nouts):\n",
        "    sz = [nin] + nouts\n",
        "    self.layers = [Layer(sz[i], sz[i+1]) for i in range(len(nouts))]\n",
        "\n",
        "  def __call__(self, x):\n",
        "    for layer in self.layers:\n",
        "      x = layer(x)\n",
        "    return x\n",
        "\n",
        "  def parameters(self):\n",
        "    return [p for layer in self.layers for neuron in layer.neurons for p in neuron.w + [neuron.b]]"
      ],
      "metadata": {
        "id": "8tDJarTi241u"
      },
      "execution_count": null,
      "outputs": []
    },
    {
      "cell_type": "code",
      "source": [
        "xs = [\n",
        "    [4.0, 2.0, -1.0, 3.0],\n",
        "    [-1.0, -1.0, 2.5, 2.0],\n",
        "    [3.5, 4.0, 1.0, -1.5],\n",
        "    [1.0, -1.0, -2.0, 3.0],\n",
        "]\n",
        "ys = [1.0, -1.0, 1.0, -1.0]\n",
        "\n",
        "mlp = MLP(4, [1])\n",
        "\n",
        "ypred = [mlp(x) for x in xs]\n",
        "ypred"
      ],
      "metadata": {
        "colab": {
          "base_uri": "https://localhost:8080/"
        },
        "id": "mMFqEABt3V0R",
        "outputId": "b721d661-a543-406c-bcf0-6e4fa7c8511e"
      },
      "execution_count": null,
      "outputs": [
        {
          "output_type": "execute_result",
          "data": {
            "text/plain": [
              "[Value(data=0.5995847616984319),\n",
              " Value(data=-0.2636148045712094),\n",
              " Value(data=-0.5823200147672021),\n",
              " Value(data=0.8900918654817813)]"
            ]
          },
          "metadata": {},
          "execution_count": 41
        }
      ]
    },
    {
      "cell_type": "code",
      "source": [
        "for k in range(300):\n",
        "  ypred = [mlp(x) for x in xs]\n",
        "  loss = sum(((ypred[i] - ys[i])**2 for i in range(len(ys))), start=Value(0))\n",
        "\n",
        "  for p in mlp.parameters():\n",
        "    p.grad = 0.0\n",
        "  loss.backward()\n",
        "\n",
        "  for p in mlp.parameters():\n",
        "    p.data -= 0.05 * p.grad\n",
        "\n",
        "  print(f\"Iteration number : {k+1} \", f\"error : {loss.data}\")"
      ],
      "metadata": {
        "colab": {
          "base_uri": "https://localhost:8080/"
        },
        "id": "lUNeqoE3A2cv",
        "outputId": "a1e92d1b-3aeb-4489-f40f-856cbbf0c890"
      },
      "execution_count": null,
      "outputs": [
        {
          "output_type": "stream",
          "name": "stdout",
          "text": [
            "Iteration number : 1  error : 6.778779408204079\n",
            "Iteration number : 2  error : 1.8787483163657008\n",
            "Iteration number : 3  error : 0.03542851325769208\n",
            "Iteration number : 4  error : 0.027164522679221863\n",
            "Iteration number : 5  error : 0.023914668330692355\n",
            "Iteration number : 6  error : 0.021904929598067956\n",
            "Iteration number : 7  error : 0.020401744320066945\n",
            "Iteration number : 8  error : 0.019169776055982836\n",
            "Iteration number : 9  error : 0.018112033615035897\n",
            "Iteration number : 10  error : 0.017180488844551308\n",
            "Iteration number : 11  error : 0.016347519583477695\n",
            "Iteration number : 12  error : 0.015595221370878317\n",
            "Iteration number : 13  error : 0.014910898485756368\n",
            "Iteration number : 14  error : 0.014284956355762074\n",
            "Iteration number : 15  error : 0.013709818998984782\n",
            "Iteration number : 16  error : 0.013179321664491293\n",
            "Iteration number : 17  error : 0.012688341418790423\n",
            "Iteration number : 18  error : 0.012232556004002765\n",
            "Iteration number : 19  error : 0.011808276882558685\n",
            "Iteration number : 20  error : 0.011412328078320804\n",
            "Iteration number : 21  error : 0.011041954979701804\n",
            "Iteration number : 22  error : 0.010694753744204219\n",
            "Iteration number : 23  error : 0.010368615462074907\n",
            "Iteration number : 24  error : 0.010061681249531546\n",
            "Iteration number : 25  error : 0.009772305651733\n",
            "Iteration number : 26  error : 0.009499026497145513\n",
            "Iteration number : 27  error : 0.009240539844907285\n",
            "Iteration number : 28  error : 0.00899567900751268\n",
            "Iteration number : 29  error : 0.00876339687094194\n",
            "Iteration number : 30  error : 0.008542750907817384\n",
            "Iteration number : 31  error : 0.008332890407539942\n",
            "Iteration number : 32  error : 0.008133045544197847\n",
            "Iteration number : 33  error : 0.007942517977268337\n",
            "Iteration number : 34  error : 0.0077606727377935066\n",
            "Iteration number : 35  error : 0.007586931198019908\n",
            "Iteration number : 36  error : 0.007420764958434844\n",
            "Iteration number : 37  error : 0.007261690514894949\n",
            "Iteration number : 38  error : 0.007109264591726269\n",
            "Iteration number : 39  error : 0.006963080045487352\n",
            "Iteration number : 40  error : 0.0068227622594434194\n",
            "Iteration number : 41  error : 0.006687965961403797\n",
            "Iteration number : 42  error : 0.006558372407969638\n",
            "Iteration number : 43  error : 0.006433686886852845\n",
            "Iteration number : 44  error : 0.006313636496097125\n",
            "Iteration number : 45  error : 0.0061979681650199975\n",
            "Iteration number : 46  error : 0.006086446886720023\n",
            "Iteration number : 47  error : 0.005978854136221123\n",
            "Iteration number : 48  error : 0.005874986451898618\n",
            "Iteration number : 49  error : 0.005774654160857741\n",
            "Iteration number : 50  error : 0.005677680231507715\n",
            "Iteration number : 51  error : 0.0055838992387691735\n",
            "Iteration number : 52  error : 0.005493156429226192\n",
            "Iteration number : 53  error : 0.0054053068751435595\n",
            "Iteration number : 54  error : 0.0053202147076506995\n",
            "Iteration number : 55  error : 0.0052377524205853825\n",
            "Iteration number : 56  error : 0.005157800237518936\n",
            "Iteration number : 57  error : 0.0050802455353752655\n",
            "Iteration number : 58  error : 0.0050049823188300785\n",
            "Iteration number : 59  error : 0.004931910740348555\n",
            "Iteration number : 60  error : 0.004860936661306337\n",
            "Iteration number : 61  error : 0.004791971250150667\n",
            "Iteration number : 62  error : 0.004724930614007355\n",
            "Iteration number : 63  error : 0.00465973546053154\n",
            "Iteration number : 64  error : 0.004596310787146332\n",
            "Iteration number : 65  error : 0.004534585595117037\n",
            "Iteration number : 66  error : 0.004474492626177034\n",
            "Iteration number : 67  error : 0.004415968119658368\n",
            "Iteration number : 68  error : 0.004358951588289005\n",
            "Iteration number : 69  error : 0.00430338561100547\n",
            "Iteration number : 70  error : 0.004249215641293689\n",
            "Iteration number : 71  error : 0.004196389829717694\n",
            "Iteration number : 72  error : 0.004144858859426694\n",
            "Iteration number : 73  error : 0.004094575793546723\n",
            "Iteration number : 74  error : 0.004045495933468254\n",
            "Iteration number : 75  error : 0.003997576687132506\n",
            "Iteration number : 76  error : 0.003950777446504147\n",
            "Iteration number : 77  error : 0.003905059473491328\n",
            "Iteration number : 78  error : 0.0038603857936421048\n",
            "Iteration number : 79  error : 0.003816721097005765\n",
            "Iteration number : 80  error : 0.00377403164560263\n",
            "Iteration number : 81  error : 0.003732285186993655\n",
            "Iteration number : 82  error : 0.003691450873487034\n",
            "Iteration number : 83  error : 0.003651499186556554\n",
            "Iteration number : 84  error : 0.003612401866085032\n",
            "Iteration number : 85  error : 0.003574131844076397\n",
            "Iteration number : 86  error : 0.0035366631825116093\n",
            "Iteration number : 87  error : 0.0034999710150489744\n",
            "Iteration number : 88  error : 0.0034640314922944355\n",
            "Iteration number : 89  error : 0.0034288217303897234\n",
            "Iteration number : 90  error : 0.0033943197626861445\n",
            "Iteration number : 91  error : 0.0033605044942897812\n",
            "Iteration number : 92  error : 0.003327355659281785\n",
            "Iteration number : 93  error : 0.003294853780431411\n",
            "Iteration number : 94  error : 0.0032629801312344326\n",
            "Iteration number : 95  error : 0.003231716700121611\n",
            "Iteration number : 96  error : 0.003201046156694176\n",
            "Iteration number : 97  error : 0.003170951819853671\n",
            "Iteration number : 98  error : 0.0031414176277031925\n",
            "Iteration number : 99  error : 0.0031124281091064352\n",
            "Iteration number : 100  error : 0.003083968356799231\n",
            "Iteration number : 101  error : 0.003056024001955091\n",
            "Iteration number : 102  error : 0.0030285811901145047\n",
            "Iteration number : 103  error : 0.0030016265583931038\n",
            "Iteration number : 104  error : 0.002975147213890233\n",
            "Iteration number : 105  error : 0.0029491307132250896\n",
            "Iteration number : 106  error : 0.002923565043131831\n",
            "Iteration number : 107  error : 0.002898438602050874\n",
            "Iteration number : 108  error : 0.0028737401826569404\n",
            "Iteration number : 109  error : 0.002849458955268774\n",
            "Iteration number : 110  error : 0.002825584452089128\n",
            "Iteration number : 111  error : 0.002802106552226908\n",
            "Iteration number : 112  error : 0.0027790154674566664\n",
            "Iteration number : 113  error : 0.002756301728673434\n",
            "Iteration number : 114  error : 0.0027339561730035083\n",
            "Iteration number : 115  error : 0.0027119699315346847\n",
            "Iteration number : 116  error : 0.002690334417631237\n",
            "Iteration number : 117  error : 0.00266904131580154\n",
            "Iteration number : 118  error : 0.0026480825710882066\n",
            "Iteration number : 119  error : 0.0026274503789520025\n",
            "Iteration number : 120  error : 0.002607137175623448\n",
            "Iteration number : 121  error : 0.002587135628896598\n",
            "Iteration number : 122  error : 0.002567438629341957\n",
            "Iteration number : 123  error : 0.0025480392819160324\n",
            "Iteration number : 124  error : 0.0025289308979472734\n",
            "Iteration number : 125  error : 0.002510106987478479\n",
            "Iteration number : 126  error : 0.0024915612519474787\n",
            "Iteration number : 127  error : 0.002473287577188713\n",
            "Iteration number : 128  error : 0.0024552800267395925\n",
            "Iteration number : 129  error : 0.0024375328354360798\n",
            "Iteration number : 130  error : 0.002420040403283058\n",
            "Iteration number : 131  error : 0.0024027972895859654\n",
            "Iteration number : 132  error : 0.0023857982073306975\n",
            "Iteration number : 133  error : 0.0023690380177995595\n",
            "Iteration number : 134  error : 0.0023525117254119777\n",
            "Iteration number : 135  error : 0.0023362144727787845\n",
            "Iteration number : 136  error : 0.0023201415359603767\n",
            "Iteration number : 137  error : 0.0023042883199182653\n",
            "Iteration number : 138  error : 0.002288650354151639\n",
            "Iteration number : 139  error : 0.0022732232885097183\n",
            "Iteration number : 140  error : 0.0022580028891717617\n",
            "Iteration number : 141  error : 0.0022429850347873617\n",
            "Iteration number : 142  error : 0.00222816571276894\n",
            "Iteration number : 143  error : 0.0022135410157301154\n",
            "Iteration number : 144  error : 0.0021991071380628936\n",
            "Iteration number : 145  error : 0.0021848603726476856\n",
            "Iteration number : 146  error : 0.0021707971076898613\n",
            "Iteration number : 147  error : 0.0021569138236775926\n",
            "Iteration number : 148  error : 0.0021432070904553757\n",
            "Iteration number : 149  error : 0.0021296735644078324\n",
            "Iteration number : 150  error : 0.0021163099857498323\n",
            "Iteration number : 151  error : 0.002103113175917253\n",
            "Iteration number : 152  error : 0.0020900800350548924\n",
            "Iteration number : 153  error : 0.0020772075395967533\n",
            "Iteration number : 154  error : 0.0020644927399351273\n",
            "Iteration number : 155  error : 0.0020519327581745486\n",
            "Iteration number : 156  error : 0.002039524785967081\n",
            "Iteration number : 157  error : 0.002027266082425402\n",
            "Iteration number : 158  error : 0.0020151539721107088\n",
            "Iteration number : 159  error : 0.0020031858430920348\n",
            "Iteration number : 160  error : 0.0019913591450742385\n",
            "Iteration number : 161  error : 0.00197967138759179\n",
            "Iteration number : 162  error : 0.0019681201382656223\n",
            "Iteration number : 163  error : 0.0019567030211206263\n",
            "Iteration number : 164  error : 0.0019454177149611706\n",
            "Iteration number : 165  error : 0.0019342619518024542\n",
            "Iteration number : 166  error : 0.001923233515355434\n",
            "Iteration number : 167  error : 0.0019123302395631808\n",
            "Iteration number : 168  error : 0.0019015500071867064\n",
            "Iteration number : 169  error : 0.0018908907484381531\n",
            "Iteration number : 170  error : 0.001880350439659766\n",
            "Iteration number : 171  error : 0.0018699271020466675\n",
            "Iteration number : 172  error : 0.0018596188004118086\n",
            "Iteration number : 173  error : 0.0018494236419914318\n",
            "Iteration number : 174  error : 0.001839339775289735\n",
            "Iteration number : 175  error : 0.0018293653889608426\n",
            "Iteration number : 176  error : 0.0018194987107270797\n",
            "Iteration number : 177  error : 0.0018097380063318985\n",
            "Iteration number : 178  error : 0.0018000815785264223\n",
            "Iteration number : 179  error : 0.0017905277660880295\n",
            "Iteration number : 180  error : 0.001781074942870161\n",
            "Iteration number : 181  error : 0.0017717215168819482\n",
            "Iteration number : 182  error : 0.0017624659293966473\n",
            "Iteration number : 183  error : 0.0017533066540878796\n",
            "Iteration number : 184  error : 0.001744242196192616\n",
            "Iteration number : 185  error : 0.0017352710916999452\n",
            "Iteration number : 186  error : 0.0017263919065647467\n",
            "Iteration number : 187  error : 0.0017176032359453768\n",
            "Iteration number : 188  error : 0.0017089037034644298\n",
            "Iteration number : 189  error : 0.0017002919604919193\n",
            "Iteration number : 190  error : 0.0016917666854498865\n",
            "Iteration number : 191  error : 0.00168332658313795\n",
            "Iteration number : 192  error : 0.0016749703840788044\n",
            "Iteration number : 193  error : 0.001666696843883152\n",
            "Iteration number : 194  error : 0.0016585047426333475\n",
            "Iteration number : 195  error : 0.0016503928842851248\n",
            "Iteration number : 196  error : 0.0016423600960867493\n",
            "Iteration number : 197  error : 0.0016344052280150606\n",
            "Iteration number : 198  error : 0.0016265271522278284\n",
            "Iteration number : 199  error : 0.0016187247625318215\n",
            "Iteration number : 200  error : 0.0016109969738661385\n",
            "Iteration number : 201  error : 0.0016033427218002413\n",
            "Iteration number : 202  error : 0.0015957609620462496\n",
            "Iteration number : 203  error : 0.0015882506699849033\n",
            "Iteration number : 204  error : 0.001580810840205042\n",
            "Iteration number : 205  error : 0.001573440486055712\n",
            "Iteration number : 206  error : 0.0015661386392109237\n",
            "Iteration number : 207  error : 0.0015589043492463895\n",
            "Iteration number : 208  error : 0.0015517366832279549\n",
            "Iteration number : 209  error : 0.0015446347253113342\n",
            "Iteration number : 210  error : 0.0015375975763527096\n",
            "Iteration number : 211  error : 0.001530624353530073\n",
            "Iteration number : 212  error : 0.0015237141899746669\n",
            "Iteration number : 213  error : 0.0015168662344124577\n",
            "Iteration number : 214  error : 0.0015100796508151874\n",
            "Iteration number : 215  error : 0.0015033536180607634\n",
            "Iteration number : 216  error : 0.0014966873296026807\n",
            "Iteration number : 217  error : 0.001490079993148206\n",
            "Iteration number : 218  error : 0.0014835308303450417\n",
            "Iteration number : 219  error : 0.0014770390764762085\n",
            "Iteration number : 220  error : 0.0014706039801629213\n",
            "Iteration number : 221  error : 0.0014642248030751386\n",
            "Iteration number : 222  error : 0.001457900819649716\n",
            "Iteration number : 223  error : 0.001451631316815804\n",
            "Iteration number : 224  error : 0.001445415593727148\n",
            "Iteration number : 225  error : 0.0014392529615015128\n",
            "Iteration number : 226  error : 0.0014331427429664424\n",
            "Iteration number : 227  error : 0.0014270842724117866\n",
            "Iteration number : 228  error : 0.0014210768953481698\n",
            "Iteration number : 229  error : 0.0014151199682717504\n",
            "Iteration number : 230  error : 0.001409212858434776\n",
            "Iteration number : 231  error : 0.0014033549436219235\n",
            "Iteration number : 232  error : 0.0013975456119321096\n",
            "Iteration number : 233  error : 0.0013917842615657912\n",
            "Iteration number : 234  error : 0.0013860703006174503\n",
            "Iteration number : 235  error : 0.0013804031468731674\n",
            "Iteration number : 236  error : 0.0013747822276131893\n",
            "Iteration number : 237  error : 0.001369206979419277\n",
            "Iteration number : 238  error : 0.0013636768479866684\n",
            "Iteration number : 239  error : 0.0013581912879407007\n",
            "Iteration number : 240  error : 0.001352749762657748\n",
            "Iteration number : 241  error : 0.0013473517440904619\n",
            "Iteration number : 242  error : 0.0013419967125972193\n",
            "Iteration number : 243  error : 0.0013366841567755733\n",
            "Iteration number : 244  error : 0.0013314135732996892\n",
            "Iteration number : 245  error : 0.001326184466761607\n",
            "Iteration number : 246  error : 0.0013209963495162116\n",
            "Iteration number : 247  error : 0.001315848741529792\n",
            "Iteration number : 248  error : 0.0013107411702322734\n",
            "Iteration number : 249  error : 0.0013056731703726806\n",
            "Iteration number : 250  error : 0.0013006442838781492\n",
            "Iteration number : 251  error : 0.0012956540597159635\n",
            "Iteration number : 252  error : 0.0012907020537589885\n",
            "Iteration number : 253  error : 0.001285787828653994\n",
            "Iteration number : 254  error : 0.0012809109536930713\n",
            "Iteration number : 255  error : 0.0012760710046879889\n",
            "Iteration number : 256  error : 0.0012712675638472733\n",
            "Iteration number : 257  error : 0.0012665002196561412\n",
            "Iteration number : 258  error : 0.0012617685667592371\n",
            "Iteration number : 259  error : 0.0012570722058456432\n",
            "Iteration number : 260  error : 0.0012524107435368994\n",
            "Iteration number : 261  error : 0.0012477837922771516\n",
            "Iteration number : 262  error : 0.0012431909702259024\n",
            "Iteration number : 263  error : 0.0012386319011530632\n",
            "Iteration number : 264  error : 0.0012341062143363716\n",
            "Iteration number : 265  error : 0.0012296135444609313\n",
            "Iteration number : 266  error : 0.0012251535315211063\n",
            "Iteration number : 267  error : 0.0012207258207243823\n",
            "Iteration number : 268  error : 0.001216330062397443\n",
            "Iteration number : 269  error : 0.001211965911894135\n",
            "Iteration number : 270  error : 0.0012076330295055287\n",
            "Iteration number : 271  error : 0.0012033310803718725\n",
            "Iteration number : 272  error : 0.00119905973439637\n",
            "Iteration number : 273  error : 0.0011948186661608208\n",
            "Iteration number : 274  error : 0.0011906075548431044\n",
            "Iteration number : 275  error : 0.0011864260841362856\n",
            "Iteration number : 276  error : 0.0011822739421695557\n",
            "Iteration number : 277  error : 0.0011781508214307227\n",
            "Iteration number : 278  error : 0.0011740564186903633\n",
            "Iteration number : 279  error : 0.0011699904349275533\n",
            "Iteration number : 280  error : 0.0011659525752571423\n",
            "Iteration number : 281  error : 0.001161942548858522\n",
            "Iteration number : 282  error : 0.0011579600689058341\n",
            "Iteration number : 283  error : 0.001154004852499666\n",
            "Iteration number : 284  error : 0.0011500766206001202\n",
            "Iteration number : 285  error : 0.001146175097961222\n",
            "Iteration number : 286  error : 0.001142300013066664\n",
            "Iteration number : 287  error : 0.001138451098066952\n",
            "Iteration number : 288  error : 0.0011346280887176102\n",
            "Iteration number : 289  error : 0.0011308307243188542\n",
            "Iteration number : 290  error : 0.001127058747656322\n",
            "Iteration number : 291  error : 0.0011233119049430498\n",
            "Iteration number : 292  error : 0.0011195899457626122\n",
            "Iteration number : 293  error : 0.0011158926230133322\n",
            "Iteration number : 294  error : 0.00111221969285367\n",
            "Iteration number : 295  error : 0.0011085709146486263\n",
            "Iteration number : 296  error : 0.00110494605091724\n",
            "Iteration number : 297  error : 0.0011013448672810798\n",
            "Iteration number : 298  error : 0.0010977671324137795\n",
            "Iteration number : 299  error : 0.0010942126179915286\n",
            "Iteration number : 300  error : 0.0010906810986445162\n"
          ]
        }
      ]
    },
    {
      "cell_type": "code",
      "source": [
        "ypred"
      ],
      "metadata": {
        "id": "ATFveq2qBluq",
        "colab": {
          "base_uri": "https://localhost:8080/"
        },
        "outputId": "a7418159-34a4-4e11-eb49-fc859bab8a86"
      },
      "execution_count": null,
      "outputs": [
        {
          "output_type": "execute_result",
          "data": {
            "text/plain": [
              "[Value(data=0.9797912388315542),\n",
              " Value(data=-0.9917054123316839),\n",
              " Value(data=0.9999980389629007),\n",
              " Value(data=-0.9752313326509442)]"
            ]
          },
          "metadata": {},
          "execution_count": 43
        }
      ]
    },
    {
      "cell_type": "code",
      "source": [
        "ys"
      ],
      "metadata": {
        "colab": {
          "base_uri": "https://localhost:8080/"
        },
        "id": "GrQTWj6-ZQ-8",
        "outputId": "f3154c37-b013-4e6b-a24f-34ca9f3e7cfe"
      },
      "execution_count": null,
      "outputs": [
        {
          "output_type": "execute_result",
          "data": {
            "text/plain": [
              "[1.0, -1.0, 1.0, -1.0]"
            ]
          },
          "metadata": {},
          "execution_count": 36
        }
      ]
    },
    {
      "cell_type": "markdown",
      "source": [
        "Now we can see that the predictions of Y are very close to the actual values of Y, off by a very small margin which can be decreased as further iterations of gradient descent are run"
      ],
      "metadata": {
        "id": "CJM-SX2BZV0a"
      }
    }
  ]
}
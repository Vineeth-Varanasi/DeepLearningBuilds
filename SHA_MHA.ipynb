{
  "nbformat": 4,
  "nbformat_minor": 0,
  "metadata": {
    "colab": {
      "provenance": []
    },
    "kernelspec": {
      "name": "python3",
      "display_name": "Python 3"
    },
    "language_info": {
      "name": "python"
    }
  },
  "cells": [
    {
      "cell_type": "markdown",
      "source": [
        "\n",
        "**IMPLEMENTING A TRANSFORMER USING NUMPY**\n",
        "\n"
      ],
      "metadata": {
        "id": "TUxes-Z5AC2S"
      }
    },
    {
      "cell_type": "code",
      "source": [
        "import numpy as np\n",
        "import math"
      ],
      "metadata": {
        "id": "maXpMy3YALay"
      },
      "execution_count": null,
      "outputs": []
    },
    {
      "cell_type": "code",
      "source": [
        "L, d_k, d_v = 4, 8, 8"
      ],
      "metadata": {
        "id": "FPOU8XMDAOqE"
      },
      "execution_count": null,
      "outputs": []
    },
    {
      "cell_type": "code",
      "source": [
        "Q = np.random.rand(L, d_k)\n",
        "K = np.random.rand(L, d_k)\n",
        "V = np.random.rand(L, d_v)"
      ],
      "metadata": {
        "id": "_uyP5Tb6AZrJ"
      },
      "execution_count": null,
      "outputs": []
    },
    {
      "cell_type": "code",
      "source": [
        "Q.shape"
      ],
      "metadata": {
        "colab": {
          "base_uri": "https://localhost:8080/"
        },
        "id": "WANpufcDAzaf",
        "outputId": "d2d31937-bcd3-4aa7-9e6a-9dd82bae7d48"
      },
      "execution_count": null,
      "outputs": [
        {
          "output_type": "execute_result",
          "data": {
            "text/plain": [
              "(4, 8)"
            ]
          },
          "metadata": {},
          "execution_count": 4
        }
      ]
    },
    {
      "cell_type": "code",
      "source": [
        "K.shape"
      ],
      "metadata": {
        "colab": {
          "base_uri": "https://localhost:8080/"
        },
        "id": "zpc7rnO9A5F4",
        "outputId": "213b6d21-3cd5-45fa-cb15-4b9539bfdb95"
      },
      "execution_count": null,
      "outputs": [
        {
          "output_type": "execute_result",
          "data": {
            "text/plain": [
              "(4, 8)"
            ]
          },
          "metadata": {},
          "execution_count": 5
        }
      ]
    },
    {
      "cell_type": "code",
      "source": [
        "V.shape"
      ],
      "metadata": {
        "colab": {
          "base_uri": "https://localhost:8080/"
        },
        "id": "Kk9BPXrdBKWR",
        "outputId": "a4424610-a8a0-4f54-eb34-712a823e59ee"
      },
      "execution_count": null,
      "outputs": [
        {
          "output_type": "execute_result",
          "data": {
            "text/plain": [
              "(4, 8)"
            ]
          },
          "metadata": {},
          "execution_count": 6
        }
      ]
    },
    {
      "cell_type": "markdown",
      "source": [
        "![image.png](data:image/png;base64,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)"
      ],
      "metadata": {
        "id": "EfUUmluYBfWD"
      }
    },
    {
      "cell_type": "code",
      "source": [
        "np.matmul(Q, K.T)"
      ],
      "metadata": {
        "colab": {
          "base_uri": "https://localhost:8080/"
        },
        "id": "hyZNCGF4CIBw",
        "outputId": "dc4bc927-72e6-4c93-b32c-c61760e4ac0b"
      },
      "execution_count": null,
      "outputs": [
        {
          "output_type": "execute_result",
          "data": {
            "text/plain": [
              "array([[1.11142803, 1.43412031, 1.66853435, 2.59459217],\n",
              "       [0.61776206, 1.31528896, 1.49935543, 2.09330633],\n",
              "       [1.91797251, 1.21670864, 1.94019272, 3.11781054],\n",
              "       [1.12746172, 0.77590392, 1.79231065, 2.64090133]])"
            ]
          },
          "metadata": {},
          "execution_count": 7
        }
      ]
    },
    {
      "cell_type": "code",
      "source": [
        "#Scaled term\n",
        "scaled_term = np.matmul(Q, K.T) / np.sqrt(d_k)\n",
        "scaled_term"
      ],
      "metadata": {
        "colab": {
          "base_uri": "https://localhost:8080/"
        },
        "id": "8iEcF9IkCYly",
        "outputId": "7ff540d1-1d7d-45c1-9ee8-48b21fce0490"
      },
      "execution_count": null,
      "outputs": [
        {
          "output_type": "execute_result",
          "data": {
            "text/plain": [
              "array([[0.39294915, 0.5070381 , 0.58991598, 0.91732686],\n",
              "       [0.21841187, 0.46502487, 0.53010219, 0.74009555],\n",
              "       [0.67810569, 0.43017146, 0.68596171, 1.10231249],\n",
              "       [0.39861791, 0.27432346, 0.63367751, 0.93369962]])"
            ]
          },
          "metadata": {},
          "execution_count": 8
        }
      ]
    },
    {
      "cell_type": "markdown",
      "source": [
        "Now we implement context masking so that the system can only see a token and it's past, but not a future token."
      ],
      "metadata": {
        "id": "P33cImyxDlFw"
      }
    },
    {
      "cell_type": "code",
      "source": [
        "masker = np.tril(np.ones((L, L)))"
      ],
      "metadata": {
        "id": "_wEMTQIfD1GB"
      },
      "execution_count": null,
      "outputs": []
    },
    {
      "cell_type": "code",
      "source": [
        "masker[masker == 0] = -np.inf\n",
        "masker[masker == 1] = 0"
      ],
      "metadata": {
        "id": "fhRC0WcSEG1b"
      },
      "execution_count": null,
      "outputs": []
    },
    {
      "cell_type": "code",
      "source": [
        "scaled_term + masker"
      ],
      "metadata": {
        "colab": {
          "base_uri": "https://localhost:8080/"
        },
        "id": "F3jooomgEJSI",
        "outputId": "9a09f6a1-ab37-485b-930b-3d711ebfaaa8"
      },
      "execution_count": null,
      "outputs": [
        {
          "output_type": "execute_result",
          "data": {
            "text/plain": [
              "array([[0.39294915,       -inf,       -inf,       -inf],\n",
              "       [0.21841187, 0.46502487,       -inf,       -inf],\n",
              "       [0.67810569, 0.43017146, 0.68596171,       -inf],\n",
              "       [0.39861791, 0.27432346, 0.63367751, 0.93369962]])"
            ]
          },
          "metadata": {},
          "execution_count": 11
        }
      ]
    },
    {
      "cell_type": "code",
      "source": [
        "# Defining softmax function here\n",
        "def softmax(x):\n",
        "    x = x - x.max(axis=-1, keepdims=True)\n",
        "    e = np.exp(x)\n",
        "    return e / e.sum(axis=-1, keepdims=True)"
      ],
      "metadata": {
        "id": "42oOyEG5EYjx"
      },
      "execution_count": null,
      "outputs": []
    },
    {
      "cell_type": "code",
      "source": [
        "#Finally we reach self-attention\n",
        "attention = softmax(scaled_term + masker)\n",
        "attention"
      ],
      "metadata": {
        "colab": {
          "base_uri": "https://localhost:8080/"
        },
        "id": "96dmKJtEEuK1",
        "outputId": "b04eb9b3-31fa-42a6-92d4-d9519f975ebd"
      },
      "execution_count": null,
      "outputs": [
        {
          "output_type": "execute_result",
          "data": {
            "text/plain": [
              "array([[1.        , 0.        , 0.        , 0.        ],\n",
              "       [0.43865733, 0.56134267, 0.        , 0.        ],\n",
              "       [0.35864169, 0.27988802, 0.36147029, 0.        ],\n",
              "       [0.20594388, 0.18187311, 0.26051575, 0.35166725]])"
            ]
          },
          "metadata": {},
          "execution_count": 13
        }
      ]
    },
    {
      "cell_type": "markdown",
      "source": [
        "With this, we got the similarity in vectors of one piece of data (basically text), with another"
      ],
      "metadata": {
        "id": "Upewevt6FBPb"
      }
    },
    {
      "cell_type": "code",
      "source": [
        "#We can use this attention head to predict new values\n",
        "new_V = np.matmul(attention, V)\n",
        "print(new_V.shape)\n",
        "new_V"
      ],
      "metadata": {
        "colab": {
          "base_uri": "https://localhost:8080/"
        },
        "id": "lIg8oNz2FJOM",
        "outputId": "733615de-7bdf-4209-830a-f337f04e5a5d"
      },
      "execution_count": null,
      "outputs": [
        {
          "output_type": "stream",
          "name": "stdout",
          "text": [
            "(4, 8)\n"
          ]
        },
        {
          "output_type": "execute_result",
          "data": {
            "text/plain": [
              "array([[0.25175886, 0.62693951, 0.47516866, 0.92613816, 0.10494182,\n",
              "        0.48582979, 0.53651256, 0.56749366],\n",
              "       [0.6674121 , 0.39157622, 0.23890205, 0.52897618, 0.17755345,\n",
              "        0.58942104, 0.60375402, 0.59417485],\n",
              "       [0.48916176, 0.32188045, 0.36538225, 0.53821828, 0.31211114,\n",
              "        0.6332    , 0.72346756, 0.49456466],\n",
              "       [0.48857605, 0.35147722, 0.44503318, 0.52882681, 0.50554614,\n",
              "        0.58027252, 0.59691942, 0.63428093]])"
            ]
          },
          "metadata": {},
          "execution_count": 14
        }
      ]
    },
    {
      "cell_type": "code",
      "source": [
        "# MHA\n",
        "L       = 3\n",
        "d_model = 8\n",
        "H       = 2\n",
        "assert d_model % H == 0\n",
        "d_head  = d_model // H"
      ],
      "metadata": {
        "id": "k2TSsCQT6CsF"
      },
      "execution_count": null,
      "outputs": []
    },
    {
      "cell_type": "code",
      "source": [
        "np.random.seed(0)\n",
        "X = np.arange(L * d_model, dtype=float).reshape(L, d_model) / 10.0"
      ],
      "metadata": {
        "id": "9YvoYa1z7F7x"
      },
      "execution_count": null,
      "outputs": []
    },
    {
      "cell_type": "code",
      "source": [
        "#Projecting to Q, K, V in one step\n",
        "W_qkv = np.random.randn(d_model, 3 * d_model) * 0.1"
      ],
      "metadata": {
        "id": "oHgR9vcT7IOJ"
      },
      "execution_count": null,
      "outputs": []
    },
    {
      "cell_type": "code",
      "source": [
        "#output proj\n",
        "W_o   = np.random.randn(d_model, d_model) * 0.1"
      ],
      "metadata": {
        "id": "SpOa2z_v7RLJ"
      },
      "execution_count": null,
      "outputs": []
    },
    {
      "cell_type": "code",
      "source": [
        "#this is the SHA step where we project all Queries onto every Key\n",
        "qkv = X @ W_qkv"
      ],
      "metadata": {
        "id": "2Ur0NtpP7aGq"
      },
      "execution_count": null,
      "outputs": []
    },
    {
      "cell_type": "code",
      "source": [
        "#now we split the Q, K, V vectors from the concatenated one\n",
        "Q, K, V = np.split(qkv, 3, axis=-1)"
      ],
      "metadata": {
        "id": "MpYsnLBW7sI1"
      },
      "execution_count": null,
      "outputs": []
    },
    {
      "cell_type": "code",
      "source": [
        "Q = Q.reshape(L, H, d_head).transpose(1, 0, 2)\n",
        "K = K.reshape(L, H, d_head).transpose(1, 0, 2)\n",
        "V = V.reshape(L, H, d_head).transpose(1, 0, 2)"
      ],
      "metadata": {
        "id": "sV3nNbK58EBm"
      },
      "execution_count": null,
      "outputs": []
    },
    {
      "cell_type": "markdown",
      "source": [
        "Since we are performing operations on vectors, the dimensions need to align, which is why I reshaped a normal (L, d_head) shape matrix to (L, H, d_head). Just to keep track of \"Which\" head we're performing SHA on"
      ],
      "metadata": {
        "id": "rZk8e02Z8kQ8"
      }
    },
    {
      "cell_type": "code",
      "source": [
        "#Now we just perform classic attention\n",
        "scores = Q @ K.transpose(0, 2, 1)\n",
        "scores = scores / np.sqrt(d_head)\n",
        "attention = softmax(scores)"
      ],
      "metadata": {
        "id": "aOgIc-ox8yYE"
      },
      "execution_count": null,
      "outputs": []
    },
    {
      "cell_type": "code",
      "source": [
        "#calculating the new heads here\n",
        "Y_heads = attention @ V"
      ],
      "metadata": {
        "id": "NHef0Qvh9MSq"
      },
      "execution_count": null,
      "outputs": []
    },
    {
      "cell_type": "code",
      "source": [
        "Y_concat = Y_heads.transpose(1, 0, 2).reshape(L, d_model)"
      ],
      "metadata": {
        "id": "ttAZ2bWN9Xp6"
      },
      "execution_count": null,
      "outputs": []
    },
    {
      "cell_type": "code",
      "source": [
        "Y = Y_concat @ W_o"
      ],
      "metadata": {
        "id": "h7F4LfEu9cE9"
      },
      "execution_count": null,
      "outputs": []
    },
    {
      "cell_type": "code",
      "source": [
        "#Now lets just compress the code into usable functions...\n",
        "def self_attention_single_head(X: np.ndarray, W_qkv: np.ndarray, W_o: np.ndarray | None = None, mask: np.ndarray | None = None):\n",
        "    L, d_model = X.shape\n",
        "    qkv = X @ W_qkv\n",
        "    Q, K, V = np.split(qkv, 3, axis=-1)\n",
        "\n",
        "    d_k = d_model\n",
        "    scores = (Q @ K.T) / math.sqrt(d_k)\n",
        "    if mask is not None:\n",
        "        scores = scores + mask\n",
        "    attn = softmax(scores)\n",
        "    Y = attn @ V\n",
        "\n",
        "    if W_o is not None:\n",
        "        Y = Y @ W_o\n",
        "    return Y, attn\n"
      ],
      "metadata": {
        "id": "Eu76fkIT9jGz"
      },
      "execution_count": null,
      "outputs": []
    },
    {
      "cell_type": "code",
      "source": [
        "def multi_head_attention(X: np.ndarray, W_qkv: np.ndarray, W_o: np.ndarray, H: int, mask: np.ndarray | None = None):\n",
        "    L, d_model = X.shape\n",
        "    assert d_model % H == 0\n",
        "    d_head = d_model // H\n",
        "\n",
        "    qkv = X @ W_qkv\n",
        "    Q, K, V = np.split(qkv, 3, axis=-1)\n",
        "\n",
        "    Q = Q.reshape(L, H, d_head).transpose(1, 0, 2)\n",
        "    K = K.reshape(L, H, d_head).transpose(1, 0, 2)\n",
        "    V = V.reshape(L, H, d_head).transpose(1, 0, 2)\n",
        "\n",
        "    #classic attn mechanism here.\n",
        "    scores = Q @ K.transpose(0, 2, 1)\n",
        "    scores = scores / math.sqrt(d_head)\n",
        "\n",
        "    if mask is not None:\n",
        "        if mask.ndim == 2:\n",
        "            mask = np.broadcast_to(mask, scores.shape)\n",
        "        scores = scores + mask\n",
        "\n",
        "    attn = softmax(scores)\n",
        "\n",
        "    Y_heads = attn @ V\n",
        "\n",
        "    Y_concat = Y_heads.transpose(1, 0, 2).reshape(L, d_model)\n",
        "\n",
        "\n",
        "    Y = Y_concat @ W_o\n",
        "\n",
        "    return Y, attn\n"
      ],
      "metadata": {
        "id": "0_ereQzF-rKZ"
      },
      "execution_count": null,
      "outputs": []
    }
  ]
}
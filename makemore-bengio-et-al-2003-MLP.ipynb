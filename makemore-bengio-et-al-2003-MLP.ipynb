{
 "cells": [
  {
   "cell_type": "code",
   "execution_count": 1,
   "id": "b0c39f1e-e9bf-40af-82ec-65c5f298ada7",
   "metadata": {},
   "outputs": [],
   "source": [
    "import torch\n",
    "import torch.nn.functional as F\n",
    "import matplotlib.pyplot as plt\n",
    "%matplotlib inline"
   ]
  },
  {
   "cell_type": "code",
   "execution_count": 2,
   "id": "4cb494d7-e43c-44e5-a55f-2b446008f999",
   "metadata": {},
   "outputs": [
    {
     "data": {
      "text/plain": [
       "['emma', 'olivia', 'ava', 'isabella', 'sophia']"
      ]
     },
     "execution_count": 2,
     "metadata": {},
     "output_type": "execute_result"
    }
   ],
   "source": [
    "# reading all words\n",
    "words = open('names.txt', 'r').read().splitlines()\n",
    "words[:5]"
   ]
  },
  {
   "cell_type": "code",
   "execution_count": 3,
   "id": "9107c5f3-ff81-45ed-9b22-42272a8fef94",
   "metadata": {},
   "outputs": [
    {
     "data": {
      "text/plain": [
       "32033"
      ]
     },
     "execution_count": 3,
     "metadata": {},
     "output_type": "execute_result"
    }
   ],
   "source": [
    "# Let us check the total number of names\n",
    "len(words)"
   ]
  },
  {
   "cell_type": "code",
   "execution_count": 4,
   "id": "cda563d9-5a27-4792-a337-6c3943e3ab85",
   "metadata": {},
   "outputs": [
    {
     "name": "stdout",
     "output_type": "stream",
     "text": [
      "{1: 'a', 2: 'b', 3: 'c', 4: 'd', 5: 'e', 6: 'f', 7: 'g', 8: 'h', 9: 'i', 10: 'j', 11: 'k', 12: 'l', 13: 'm', 14: 'n', 15: 'o', 16: 'p', 17: 'q', 18: 'r', 19: 's', 20: 't', 21: 'u', 22: 'v', 23: 'w', 24: 'x', 25: 'y', 26: 'z', 0: '.'}\n"
     ]
    }
   ],
   "source": [
    "# Creating dictionaries to assign integer values to all the letters\n",
    "chars = sorted(list(set(''.join(words))))\n",
    "stoi = {s:i+1 for i,s in enumerate(chars)}\n",
    "stoi['.'] = 0\n",
    "itos = {i:s for s,i in stoi.items()}\n",
    "print(itos)"
   ]
  },
  {
   "cell_type": "code",
   "execution_count": 5,
   "id": "537724a6-cde5-43ad-8ea7-22f5f5df196a",
   "metadata": {},
   "outputs": [
    {
     "name": "stdout",
     "output_type": "stream",
     "text": [
      "torch.Size([182625, 3]) torch.Size([182625])\n",
      "torch.Size([22655, 3]) torch.Size([22655])\n",
      "torch.Size([22866, 3]) torch.Size([22866])\n"
     ]
    }
   ],
   "source": [
    "# Building the dataset with a function\n",
    "block_size = 3\n",
    "# A preferable block size for now\n",
    "\n",
    "def build_dataset(words):\n",
    "    X, Y = [], []\n",
    "\n",
    "    for w in words:\n",
    "        # initiating each word with 3 start/end characters prior to the first letter\n",
    "        context = [0] * block_size\n",
    "        for ch in w + '.':\n",
    "            ix = stoi[ch]\n",
    "            X.append(context)\n",
    "            Y.append(ix)\n",
    "            context = context[1:] + [ix]\n",
    "    X = torch.tensor(X)\n",
    "    Y = torch.tensor(Y)\n",
    "    print(X.shape, Y.shape)\n",
    "    return X, Y\n",
    "\n",
    "import random\n",
    "random.seed(42)\n",
    "random.shuffle(words)\n",
    "n1 = int(0.8*len(words))\n",
    "n2 = int(0.9*len(words))\n",
    "\n",
    "# Dividing into train, validation, and test sets\n",
    "Xtr, Ytr = build_dataset(words[:n1])\n",
    "Xdev, Ydev = build_dataset(words[n1:n2])\n",
    "Xte, Yte = build_dataset(words[n2:])"
   ]
  },
  {
   "cell_type": "markdown",
   "id": "29b41045-c4c0-48aa-b36e-64febe83f076",
   "metadata": {},
   "source": [
    "# What exactly are we doing and why is it so cool?\n",
    "\n",
    "## The goal\n",
    "The goal here is to create a 2D space in which we put all the letters/chunks, which can then be trained to find a better arrangement which can reveal deeper patterns and correlations, which are later fed to the neural network.\n",
    "\n",
    "## The process \n",
    "Here we take a block size of 3, which means that for every character, we check the 3 prior characters. This is implemented, by creating 2 tensors, X and Y\n",
    "\n",
    "## X and Y\n",
    "For each word in the words dataset, Y is appended a character, and X is appended the 3 characters prior to the character appended to Y. So effectively, X is a 2D tensor, where each row is a list of 3 numbers corresponding to the indices of the 3 characters which appear prior to a specific character in the tensor Y.\n",
    "\n",
    "## What exactly is C?\n",
    "C is a 2D matrix of 27 rows and 2 columns. Here, the 27 rows are made to represent the alphabet. The element corresponding to each alphabet has 2 elements within it. These numbers are randomly generated initially. \n",
    "\n",
    "## Putting it all together\n",
    "we then create an 'Embedding vector', basically a new vector the same as the tensor X. The only difference being, each number in X is replaced with the number's corresponding character's corresponding 2-element list from C. Now, the reason why there's 2 numbers for each character in C is so that finally, in the embedding vector, we can get a 2D space where we can plot each chunk(embedding), and then after training, we get a spatial correlation of all the embeddings, resulting in a better dataset for the neural network."
   ]
  },
  {
   "cell_type": "code",
   "execution_count": 23,
   "id": "1cd8bdbf-5e18-40e1-a9f8-48e808212a89",
   "metadata": {},
   "outputs": [],
   "source": [
    "# Initializing the weights\n",
    "C = torch.randn((27, 10))\n",
    "\n",
    "# Now we created the first layer, next we send the data to the second layer and introduce a non-linearity : tanh\n",
    "W1 = torch.randn((30, 200))\n",
    "b1 = torch.randn(200)\n",
    "\n",
    "# Building the 2nd layer\n",
    "W2 =  torch.randn((200,27))\n",
    "b2 = torch.randn(27)"
   ]
  },
  {
   "cell_type": "code",
   "execution_count": 24,
   "id": "0a047cfc-52d2-450d-9420-8352910e4aae",
   "metadata": {},
   "outputs": [
    {
     "name": "stdout",
     "output_type": "stream",
     "text": [
      "11897\n"
     ]
    }
   ],
   "source": [
    "# Keeping count of all the parameters \n",
    "parameters = [C, W1, b1, W2, b2]\n",
    "print(sum(p.nelement() for p in parameters))\n",
    "# Adding a grad term to all parameters\n",
    "for p in parameters:\n",
    "    p.requires_grad = True"
   ]
  },
  {
   "cell_type": "code",
   "execution_count": 25,
   "id": "3bfe6a59-b584-4b8a-89a8-cdba5ec82164",
   "metadata": {},
   "outputs": [],
   "source": [
    "# Keeping track of learning rate exponent\n",
    "lre = torch.linspace(-3, 0, 1000)\n",
    "lrs = 10**lre"
   ]
  },
  {
   "cell_type": "code",
   "execution_count": 31,
   "id": "53e3bdcf-9b45-4c17-8814-710d9c0730c6",
   "metadata": {},
   "outputs": [
    {
     "name": "stdout",
     "output_type": "stream",
     "text": [
      "1.939353108406067\n"
     ]
    }
   ],
   "source": [
    "lri = []\n",
    "lossi = []\n",
    "stepi = []\n",
    "\n",
    "for i in range(50000):\n",
    "\n",
    "    # Use minibatches for more efficient energy usage\n",
    "    ix = torch.randint(0, Xtr.shape[0], (32,))\n",
    "\n",
    "    # emb is the layer which maps everything in a vector space\n",
    "    emb = C[Xtr[ix]]\n",
    "\n",
    "    # Implementing the first layer along with the non-linearity\n",
    "    h = torch.tanh(emb.view(-1, 30) @ W1 + b1)\n",
    "\n",
    "    # Implementing the second layer\n",
    "    logits = h @ W2 + b2\n",
    "\n",
    "    # Loss function to implement backprop, Cross entropy is usually more efficient and handles edge cases well\n",
    "    loss = F.cross_entropy(logits, Ytr[ix])\n",
    "\n",
    "     # backward pass\n",
    "    for p in parameters:\n",
    "        p.grad = None\n",
    "    loss.backward()\n",
    "\n",
    "    # data update\n",
    "    lr = 0.1 if i < 100000 else 0.01\n",
    "    for p in parameters:\n",
    "        p.data += -lr * p.grad\n",
    "\n",
    "    #stats\n",
    "    stepi.append(i)\n",
    "    lossi.append(loss.log10().item())\n",
    "\n",
    "print(loss.item())"
   ]
  },
  {
   "cell_type": "code",
   "execution_count": 27,
   "id": "a7dc5fee-5fbb-493f-ac59-46da262e0939",
   "metadata": {},
   "outputs": [
    {
     "data": {
      "text/plain": [
       "[<matplotlib.lines.Line2D at 0x22508040380>]"
      ]
     },
     "execution_count": 27,
     "metadata": {},
     "output_type": "execute_result"
    },
    {
     "data": {
      "image/png": "[encoded data removed]",
      "text/plain": [
       "<Figure size 640x480 with 1 Axes>"
      ]
     },
     "metadata": {},
     "output_type": "display_data"
    }
   ],
   "source": [
    "# Plotting the number of iterations against loss allows for better optimization, where we can decide when exactly to stop the algorithm\n",
    "plt.plot(stepi, lossi)"
   ]
  },
  {
   "cell_type": "markdown",
   "id": "0e36ff97-132a-4e79-b8a2-e88b3edc88ae",
   "metadata": {},
   "source": [
    "Here, we can see the model optimizing as it hits around 5,000 iterations"
   ]
  },
  {
   "cell_type": "code",
   "execution_count": null,
   "id": "6a96fe90-962d-4740-9e55-b11c69c23ff8",
   "metadata": {},
   "outputs": [
    {
     "data": {
      "text/plain": [
       "tensor(2.2385, grad_fn=<NllLossBackward0>)"
      ]
     },
     "execution_count": 32,
     "metadata": {},
     "output_type": "execute_result"
    }
   ],
   "source": [
    "emb = C[Xtr] \n",
    "h = torch.tanh(emb.view(-1, 30) @ W1 + b1) \n",
    "logits = h @ W2 + b2 \n",
    "loss = F.cross_entropy(logits, Ytr)\n",
    "loss"
   ]
  },
  {
   "cell_type": "code",
   "execution_count": null,
   "id": "54f90b28-a601-40c6-85c6-94d173d2b3a2",
   "metadata": {},
   "outputs": [
    {
     "data": {
      "text/plain": [
       "tensor(2.2721, grad_fn=<NllLossBackward0>)"
      ]
     },
     "execution_count": 33,
     "metadata": {},
     "output_type": "execute_result"
    }
   ],
   "source": [
    "emb = C[Xdev] \n",
    "h = torch.tanh(emb.view(-1, 30) @ W1 + b1) \n",
    "logits = h @ W2 + b2 \n",
    "loss = F.cross_entropy(logits, Ydev)\n",
    "loss"
   ]
  },
  {
   "cell_type": "markdown",
   "id": "5333e371-7aae-4ca1-9e00-550f0d99ae76",
   "metadata": {},
   "source": [
    "We notice that the model does relatively well on the validation set (similar to the training set), which means it can be considered optimal"
   ]
  },
  {
   "cell_type": "code",
   "execution_count": 35,
   "id": "d806416c-c1b4-4199-8b3b-237cc321142e",
   "metadata": {},
   "outputs": [
    {
     "data": {
      "image/png": "[encoded data removed]",
      "text/plain": [
       "<Figure size 800x800 with 1 Axes>"
      ]
     },
     "metadata": {},
     "output_type": "display_data"
    }
   ],
   "source": [
    "# visualizing dimensions 0 and 1 of the embedding matrix C for all characters, (2D representation for better intuition)\n",
    "plt.figure(figsize=(8,8))\n",
    "plt.scatter(C[:,0].data, C[:,1].data, s=200)\n",
    "for i in range(C.shape[0]):\n",
    "    plt.text(C[i,0].item(), C[i,1].item(), itos[i], ha=\"center\", va=\"center\", color='white')\n",
    "plt.grid('minor')"
   ]
  },
  {
   "cell_type": "code",
   "execution_count": null,
   "id": "fb308030-c15c-4f6d-b010-c480945713be",
   "metadata": {},
   "outputs": [
    {
     "data": {
      "text/plain": [
       "tensor(2.2795, grad_fn=<NllLossBackward0>)"
      ]
     },
     "execution_count": 36,
     "metadata": {},
     "output_type": "execute_result"
    }
   ],
   "source": [
    "emb = C[Xte] \n",
    "h = torch.tanh(emb.view(-1, 30) @ W1 + b1) \n",
    "logits = h @ W2 + b2 \n",
    "loss = F.cross_entropy(logits, Yte)\n",
    "loss"
   ]
  },
  {
   "cell_type": "markdown",
   "id": "cee64bba-093f-43a4-881c-e7d6c5cb1af0",
   "metadata": {},
   "source": [
    "The testing loss is on par with the development set, indicating a fairly accurate model"
   ]
  },
  {
   "cell_type": "code",
   "execution_count": 37,
   "id": "7880422c-441c-4915-8970-19789c7adb7d",
   "metadata": {},
   "outputs": [
    {
     "name": "stdout",
     "output_type": "stream",
     "text": [
      "mora.\n",
      "mayah.\n",
      "heer.\n",
      "nihaylee.\n",
      "emma.\n",
      "jendree.\n",
      "caishedielin.\n",
      "shyanelle.\n",
      "elie.\n",
      "camarielle.\n",
      "malkia.\n",
      "noshubur.\n",
      "laimier.\n",
      "janie.\n",
      "jelipusteria.\n",
      "uby.\n",
      "gregriyah.\n",
      "lyma.\n",
      "huma.\n",
      "mya.\n"
     ]
    }
   ],
   "source": [
    "# Now we sample from the model and see what sort of names/words it generates\n",
    "g = torch.Generator().manual_seed(2147483647 + 10) #For reproducibility\n",
    "\n",
    "for _ in range(20):\n",
    "    \n",
    "    out = []\n",
    "    context = [0] * block_size # initialize with all ...\n",
    "    while True:\n",
    "      emb = C[torch.tensor([context])] # (1,block_size,d)\n",
    "      h = torch.tanh(emb.view(1, -1) @ W1 + b1)\n",
    "      logits = h @ W2 + b2\n",
    "      probs = F.softmax(logits, dim=1)\n",
    "      ix = torch.multinomial(probs, num_samples=1, generator=g).item()\n",
    "      context = context[1:] + [ix]\n",
    "      out.append(ix)\n",
    "      if ix == 0:\n",
    "        break\n",
    "    \n",
    "    print(''.join(itos[i] for i in out))"
   ]
  },
  {
   "cell_type": "markdown",
   "id": "c913cc86-f2fc-41fc-87c1-dd0d2732b022",
   "metadata": {},
   "source": [
    "The generated names do feel like actual names, looks like the vector space strategy worked!"
   ]
  }
 ],
 "metadata": {
  "kernelspec": {
   "display_name": "Python 3 (ipykernel)",
   "language": "python",
   "name": "python3"
  },
  "language_info": {
   "codemirror_mode": {
    "name": "ipython",
    "version": 3
   },
   "file_extension": ".py",
   "mimetype": "text/x-python",
   "name": "python",
   "nbconvert_exporter": "python",
   "pygments_lexer": "ipython3",
   "version": "3.12.3"
  }
 },
 "nbformat": 4,
 "nbformat_minor": 5
}
